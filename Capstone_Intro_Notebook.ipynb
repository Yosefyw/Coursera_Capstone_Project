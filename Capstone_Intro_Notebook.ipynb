{
    "nbformat_minor": 1, 
    "cells": [
        {
            "source": "## Capstone Project Notebook\n", 
            "cell_type": "markdown", 
            "metadata": {
                "collapsed": true
            }
        }, 
        {
            "source": "## Q1. Explain NoteBook", 
            "cell_type": "markdown", 
            "metadata": {}
        }, 
        {
            "source": "### This Notebook will be mainly used for capstone Project\n", 
            "cell_type": "markdown", 
            "metadata": {}
        }, 
        {
            "source": "## Q2. Import Pandas", 
            "cell_type": "markdown", 
            "metadata": {}
        }, 
        {
            "execution_count": 12, 
            "cell_type": "code", 
            "metadata": {}, 
            "outputs": [
                {
                    "output_type": "stream", 
                    "name": "stdout", 
                    "text": "Pandas Library has been Imported\n"
                }
            ], 
            "source": "import pandas as pd\nprint('Pandas Library has been Imported')"
        }, 
        {
            "source": "## Q3. Import Numpy", 
            "cell_type": "markdown", 
            "metadata": {}
        }, 
        {
            "execution_count": 13, 
            "cell_type": "code", 
            "metadata": {}, 
            "outputs": [
                {
                    "output_type": "stream", 
                    "name": "stdout", 
                    "text": "Numpy Library has been Imported\n"
                }
            ], 
            "source": "import numpy as np\nprint('Numpy Library has been Imported')"
        }, 
        {
            "source": "## Q4. Print ", 
            "cell_type": "markdown", 
            "metadata": {}
        }, 
        {
            "source": "### Hello Capstone Project Course!", 
            "cell_type": "markdown", 
            "metadata": {}
        }, 
        {
            "execution_count": null, 
            "cell_type": "code", 
            "metadata": {}, 
            "outputs": [], 
            "source": ""
        }
    ], 
    "metadata": {
        "kernelspec": {
            "display_name": "Python 3.6", 
            "name": "python3", 
            "language": "python"
        }, 
        "language_info": {
            "mimetype": "text/x-python", 
            "nbconvert_exporter": "python", 
            "version": "3.6.8", 
            "name": "python", 
            "file_extension": ".py", 
            "pygments_lexer": "ipython3", 
            "codemirror_mode": {
                "version": 3, 
                "name": "ipython"
            }
        }
    }, 
    "nbformat": 4
}