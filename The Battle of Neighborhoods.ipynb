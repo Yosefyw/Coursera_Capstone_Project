{
 "cells": [
  {
   "cell_type": "markdown",
   "metadata": {},
   "source": [
    "### Description of the problem and a discussion of the background"
   ]
  },
  {
   "cell_type": "markdown",
   "metadata": {
    "collapsed": true
   },
   "source": [
    "**The Battle of Neighborhoods Dallas** Project focuses on exploring Dallas, TX using Foursqaure location data to understand how restaurants and construction business are  \n",
    "\n",
    "distributed through out dallas county and come up with recommendation where to setup these businesses. \n",
    "\n",
    "\n",
    "Dallas County is a county located in the U.S. state of Texas. As of the 2010 census, the population was 2,368,139. It is the second-most populous county in \n",
    "\n",
    "Texas and the ninth-most populous in the United States. Its county seat is Dallas, which is also the third-largest city in Texas and the ninth-largest city in the United States.\n"
   ]
  },
  {
   "cell_type": "markdown",
   "metadata": {},
   "source": [
    "### Description of the data and how it will be used to solve the problem"
   ]
  },
  {
   "cell_type": "markdown",
   "metadata": {},
   "source": [
    "Data for two sources will used to create dataframe with \"City\", \"Zip Code\", 'Longitude' and 'Latitude, which will be used to request venues \n",
    "information from Foursquare.\n",
    "\n",
    "The two data are:-  \n",
    "1. Zip code and location from https://www2.census.gov/geo/docs/maps-data/data/gazetteer/2018_Gazetteer/2018_Gaz_zcta_national.zip \n",
    "\n",
    "  Zip code data has longitude and latitude infromation for each US zip codes. But dallas county only covers zip codes from 75001 to 75398 where dalllas county zip codes need to be extracted. \n",
    "  \n",
    "  \n",
    "2. Dallas county cities and zip codes from https://www.ciclt.net/sn/clt/capitolimpact/gw_ziplist.aspx?FIPS=48113\n",
    "\n",
    "  Dallas county cities and zip codes are listed in this data which will be combined with the zip code data to added longitude and latitude infromation for each zip code. \n",
    "\n",
    "Each data will be imported and cleaned in order to build the correct dataframe for FourSquare API\n",
    "\n"
   ]
  },
  {
   "cell_type": "markdown",
   "metadata": {},
   "source": [
    "Infromation extracted from Foursquare will be grouped and cleaned to run KMeans clustering to understand where each type of venues are located in which city of the county.\n",
    "\n",
    "Based of the analysis, locations will be recommended where to setup restaurants and construction businessess. "
   ]
  }
 ],
 "metadata": {
  "kernelspec": {
   "display_name": "Python 3.6",
   "language": "python",
   "name": "python3"
  },
  "language_info": {
   "codemirror_mode": {
    "name": "ipython",
    "version": 3
   },
   "file_extension": ".py",
   "mimetype": "text/x-python",
   "name": "python",
   "nbconvert_exporter": "python",
   "pygments_lexer": "ipython3",
   "version": "3.6.8"
  }
 },
 "nbformat": 4,
 "nbformat_minor": 1
}
